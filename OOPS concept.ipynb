{
 "cells": [
  {
   "cell_type": "code",
   "execution_count": 3,
   "metadata": {},
   "outputs": [
    {
     "name": "stdout",
     "output_type": "stream",
     "text": [
      "config is: harsh 16\n",
      "config is: virat 24\n"
     ]
    }
   ],
   "source": [
    "class computer:\n",
    "    \n",
    "    def __init__(self,cpu,ram):\n",
    "        self.cpu=cpu #instance variable\n",
    "        self.ram=ram # instance variable\n",
    "        \n",
    "    def config(self):\n",
    "        print('config is:',self.cpu,self.ram)\n",
    "\n",
    "com1=computer('harsh',16)#self object\n",
    "com2=computer('virat',24)#selfobject \n",
    "\n",
    "com1.config()\n",
    "com2.config()\n",
    "\n"
   ]
  },
  {
   "cell_type": "code",
   "execution_count": 4,
   "metadata": {},
   "outputs": [
    {
     "name": "stdout",
     "output_type": "stream",
     "text": [
      "115.66666666666667\n",
      "82.66666666666667\n"
     ]
    }
   ],
   "source": [
    "# Write a program avarge of three number using oops concept\n",
    "\n",
    "class student:\n",
    "    school='Bright day school'\n",
    "\n",
    "    def __init__(self,m1,m2,m3):\n",
    "        self.m1=m1\n",
    "        self.m2=m2\n",
    "        self.m3=m3\n",
    "        \n",
    "    def avg(self):\n",
    "        return (self.m1+self.m2+self.m3/3)\n",
    "    \n",
    "s1=student(34,56,77)\n",
    "s2=student(34,23,77)\n",
    "\n",
    "print(s1.avg())\n",
    "print(s2.avg())\n",
    "    \n",
    "        \n",
    "\n"
   ]
  },
  {
   "cell_type": "code",
   "execution_count": 5,
   "metadata": {},
   "outputs": [
    {
     "name": "stdout",
     "output_type": "stream",
     "text": [
      "BMW 10 4\n",
      "BMW 10 4\n"
     ]
    }
   ],
   "source": [
    "class car:\n",
    "    \n",
    "    wheel=4\n",
    "    \n",
    "    def __init__(self):\n",
    "        self.mil=10\n",
    "        self.com='BMW'\n",
    "        \n",
    "c1=car()\n",
    "c2=car()\n",
    "\n",
    "\n",
    "\n",
    "print(c1.com,c1.mil,c1.wheel)\n",
    "print(c2.com,c2.mil,c2.wheel)"
   ]
  },
  {
   "cell_type": "code",
   "execution_count": 6,
   "metadata": {},
   "outputs": [
    {
     "name": "stdout",
     "output_type": "stream",
     "text": [
      "BMW 8 4\n",
      "BMW 10 4\n"
     ]
    }
   ],
   "source": [
    "class car:\n",
    "    \n",
    "    wheel=4\n",
    "    \n",
    "    def __init__(self):\n",
    "        self.mil=10\n",
    "        self.com='BMW'\n",
    "        \n",
    "c1=car()\n",
    "c2=car()\n",
    "\n",
    "c1.mil=8\n",
    "\n",
    "print(c1.com,c1.mil,c1.wheel)\n",
    "print(c2.com,c2.mil,c2.wheel)"
   ]
  },
  {
   "cell_type": "code",
   "execution_count": 7,
   "metadata": {},
   "outputs": [
    {
     "name": "stdout",
     "output_type": "stream",
     "text": [
      "BMW 8 5\n",
      "BMW 10 5\n"
     ]
    }
   ],
   "source": [
    "class car:\n",
    "    \n",
    "    wheel=4\n",
    "    \n",
    "    def __init__(self):\n",
    "        self.mil=10\n",
    "        self.com='BMW'\n",
    "        \n",
    "c1=car()\n",
    "c2=car()\n",
    "\n",
    "c1.mil=8\n",
    "car.wheel=5\n",
    "\n",
    "print(c1.com,c1.mil,c1.wheel)\n",
    "print(c2.com,c2.mil,c2.wheel)"
   ]
  },
  {
   "cell_type": "markdown",
   "metadata": {},
   "source": [
    "# Inheritance "
   ]
  },
  {
   "cell_type": "code",
   "execution_count": 12,
   "metadata": {},
   "outputs": [
    {
     "name": "stdout",
     "output_type": "stream",
     "text": [
      "feature 1 is working\n",
      "feature 2 is working\n"
     ]
    }
   ],
   "source": [
    "class A:\n",
    "    \n",
    "    def featur1(self):\n",
    "        print('feature 1 is working')\n",
    "        \n",
    "    def featur2(self):\n",
    "        print('feature 2 is working')\n",
    "        \n",
    "class B(A):\n",
    "    \n",
    "    def featur3(self):\n",
    "        print('feature 3 is working')\n",
    "        \n",
    "    def featur4(self):\n",
    "        print('feature 4 is working')\n",
    "        \n",
    "        \n",
    "a1=A()\n",
    "a2=A()\n",
    "a1.featur1()\n",
    "a2.featur2()\n",
    "\n",
    "\n",
    "    "
   ]
  },
  {
   "cell_type": "code",
   "execution_count": 14,
   "metadata": {},
   "outputs": [
    {
     "name": "stdout",
     "output_type": "stream",
     "text": [
      "feature 1 is working\n",
      "feature 2 is working\n",
      "feature 3 is working\n",
      "feature 4 is working\n"
     ]
    }
   ],
   "source": [
    "class A:\n",
    "    \n",
    "    def featur1(self):\n",
    "        print('feature 1 is working')\n",
    "        \n",
    "    def featur2(self):\n",
    "        print('feature 2 is working')\n",
    "        \n",
    "class B(A):\n",
    "    \n",
    "    def featur3(self):\n",
    "        print('feature 3 is working')\n",
    "        \n",
    "    def featur4(self):\n",
    "        print('feature 4 is working')\n",
    "        \n",
    "a1=A()\n",
    "a2=A()\n",
    "a1.featur1()\n",
    "a2.featur2()\n",
    "        \n",
    "b1=B()\n",
    "b2=B()\n",
    "b1.featur3()\n",
    "b2.featur4()        \n"
   ]
  },
  {
   "cell_type": "markdown",
   "metadata": {},
   "source": [
    "# M.I.M.P  OVERLOADING VS OVERRIDING"
   ]
  },
  {
   "cell_type": "markdown",
   "metadata": {},
   "source": [
    "# Overloading"
   ]
  },
  {
   "cell_type": "code",
   "execution_count": null,
   "metadata": {},
   "outputs": [],
   "source": [
    "class Animal{\n",
    "    \n",
    "    public void add(){\n",
    "        \n",
    "    }\n",
    "    \n",
    "    public void add(int a,int b){\n",
    "        \n",
    "        \n",
    "    }\n",
    "\n",
    "    public int add(int a,int b,int c){\n",
    "        \n",
    "    \n",
    "    }\n",
    "    \n",
    " Overloading------------------>  Same Name But Diffrent Parameter   \n",
    "    \n",
    "            -------------------> Return type can be same or diffrent\n",
    "    \n",
    "            ------------------> Complie time polymorphism\n",
    "    \n",
    "    \n",
    "    \n"
   ]
  },
  {
   "cell_type": "markdown",
   "metadata": {},
   "source": [
    "# Overriding"
   ]
  },
  {
   "cell_type": "code",
   "execution_count": null,
   "metadata": {},
   "outputs": [],
   "source": [
    "class Animal{\n",
    "    \n",
    "    public void add(){\n",
    "        \n",
    "    }\n",
    "    \n",
    "}\n",
    "\n",
    "# Inhertaince \n",
    "class dog extends Animal{\n",
    "    \n",
    "    public void add(){\n",
    "        \n",
    "    }\n",
    "    \n",
    "    \n",
    "    \n",
    "}\n",
    "\n",
    "Overriding------------------>  Inhertiance involved\n",
    "\n",
    "           ---------------->  Same Name Same Paramter  \n",
    "    \n",
    "            -------------------> Return type Must BE Same\n",
    "    \n",
    "            ------------------> Run time polymorphism\n",
    "\n",
    "\n"
   ]
  },
  {
   "cell_type": "markdown",
   "metadata": {},
   "source": [
    "# Python Method Overloading"
   ]
  },
  {
   "cell_type": "markdown",
   "metadata": {},
   "source": [
    "Like other languages (for example method overloading in C++) do, python does not supports method overloading by default. But there are different ways to achieve method overloading in Python.\n",
    "\n",
    "The problem with method overloading in Python is that we may overload the methods but can only use the latest defined method."
   ]
  },
  {
   "cell_type": "markdown",
   "metadata": {},
   "source": [
    "# Overloading Example"
   ]
  },
  {
   "cell_type": "code",
   "execution_count": 15,
   "metadata": {},
   "outputs": [
    {
     "name": "stdout",
     "output_type": "stream",
     "text": [
      "100\n"
     ]
    }
   ],
   "source": [
    "# First product method. \n",
    "# Takes two argument and print their \n",
    "# product \n",
    "def product(a, b): \n",
    "    p = a * b \n",
    "    print(p) \n",
    "\n",
    "# Second product method \n",
    "# Takes three argument and print their \n",
    "# product \n",
    "def product(a, b, c): \n",
    "    p = a * b*c \n",
    "    print(p) \n",
    "\n",
    "# Uncommenting the below line shows an error\t \n",
    "# product(4, 5) \n",
    "\n",
    "# This line will call the second product method \n",
    "product(4, 5, 5) \n"
   ]
  },
  {
   "cell_type": "markdown",
   "metadata": {},
   "source": [
    "In the above code we have defined two product method, but we can only use the second product method, as python does not supports \n",
    "\n",
    "method overloading. We may define many method of same name and different argument but we can only use the latest defined method.\n",
    "\n",
    "Calling the other method will produce an error. Like here calling product(4, 5) will produce an error as the latest defined \n",
    "\n",
    "product method takes three arguments."
   ]
  },
  {
   "cell_type": "markdown",
   "metadata": {},
   "source": [
    "Thus, to overcome the above problem we can use different ways to achieve the method overloading.\n",
    "\n",
    " 1:We need to provide optional arguments or *args in order to provide different number of args on calling.\n",
    " \n",
    " \n",
    " 2: By Using Multiple Dispatch Decorator"
   ]
  },
  {
   "cell_type": "markdown",
   "metadata": {},
   "source": [
    "# Overriding Example "
   ]
  },
  {
   "cell_type": "markdown",
   "metadata": {},
   "source": [
    "Overrriding example apvu hoy to Single Inheitance example lakhi devu "
   ]
  },
  {
   "cell_type": "code",
   "execution_count": 16,
   "metadata": {},
   "outputs": [
    {
     "name": "stdout",
     "output_type": "stream",
     "text": [
      "Inside Parent\n",
      "Inside Child\n"
     ]
    }
   ],
   "source": [
    "# Python program to demonstrate \n",
    "# method overriding \n",
    "\n",
    "\n",
    "# Defining parent class \n",
    "class Parent(): \n",
    "\t\n",
    "\t# Constructor \n",
    "\tdef __init__(self): \n",
    "\t\tself.value = \"Inside Parent\"\n",
    "\t\t\n",
    "\t# Parent's show method \n",
    "\tdef show(self): \n",
    "\t\tprint(self.value) \n",
    "\t\t\n",
    "# Defining child class \n",
    "class Child(Parent): \n",
    "\t\n",
    "\t# Constructor \n",
    "\tdef __init__(self): \n",
    "\t\tself.value = \"Inside Child\"\n",
    "\t\t\n",
    "\t# Child's show method \n",
    "\tdef show(self): \n",
    "\t\tprint(self.value) \n",
    "\t\t\n",
    "\t\t\n",
    "# Driver's code \n",
    "obj1 = Parent() \n",
    "obj2 = Child() \n",
    "\n",
    "obj1.show() \n",
    "obj2.show() \n"
   ]
  },
  {
   "cell_type": "markdown",
   "metadata": {},
   "source": [
    "# OOPS EXCERICSE"
   ]
  },
  {
   "cell_type": "code",
   "execution_count": 18,
   "metadata": {},
   "outputs": [
    {
     "name": "stdout",
     "output_type": "stream",
     "text": [
      "aux114\n",
      "hp aux114\n"
     ]
    }
   ],
   "source": [
    "class laptop:\n",
    "    \n",
    "    def __init__(self,brand,model_name,price):\n",
    "        self.brand=brand\n",
    "        self.model_name=model_name\n",
    "        self.price=price\n",
    "        self.laptop_name=brand + ' ' + model_name\n",
    "        \n",
    "laptop1=laptop('hp', 'aux114', 630000)\n",
    "print(laptop1.model_name)\n",
    "print(laptop1.laptop_name)"
   ]
  },
  {
   "cell_type": "code",
   "execution_count": 19,
   "metadata": {},
   "outputs": [
    {
     "name": "stdout",
     "output_type": "stream",
     "text": [
      "harsh shah\n"
     ]
    }
   ],
   "source": [
    "class person:\n",
    "    \n",
    "    def __init__(self,first_name,last_name,age):\n",
    "        \n",
    "        self.first_name = first_name\n",
    "        self.last_name = last_name\n",
    "        self.age = age\n",
    "        \n",
    "        \n",
    "    def full_name(self):\n",
    "        return f'{self.first_name} {self.last_name}'\n",
    "    \n",
    "    \n",
    "p1=person('harsh','shah',24)\n",
    "\n",
    "print(p1.full_name())"
   ]
  },
  {
   "cell_type": "code",
   "execution_count": 21,
   "metadata": {},
   "outputs": [
    {
     "name": "stdout",
     "output_type": "stream",
     "text": [
      "['cat']\n",
      "[]\n"
     ]
    }
   ],
   "source": [
    "class Person:\n",
    "\n",
    "    def __init__(self):\n",
    "        self.pets = []\n",
    "\n",
    "    def add_pet(self, pet):\n",
    "        self.pets.append(pet)\n",
    "\n",
    "jane = Person()\n",
    "bob = Person()\n",
    "\n",
    "jane.add_pet(\"cat\")\n",
    "print(jane.pets)\n",
    "print(bob.pets)"
   ]
  },
  {
   "cell_type": "markdown",
   "metadata": {},
   "source": [
    "#  10% sale or 20% sale etc...write a program "
   ]
  },
  {
   "cell_type": "code",
   "execution_count": 23,
   "metadata": {},
   "outputs": [
    {
     "name": "stdout",
     "output_type": "stream",
     "text": [
      "9000.0\n"
     ]
    }
   ],
   "source": [
    "class laptop:\n",
    "    \n",
    "    def __init__(self,brand,model_name,price):\n",
    "        self.brand=brand\n",
    "        self.model_name=model_name\n",
    "        self.price=price\n",
    "        \n",
    "    def apply_discount(self,num):\n",
    "        off_price=(num/100) * self.price\n",
    "        return self.price - off_price\n",
    "        \n",
    "        \n",
    "        \n",
    "        \n",
    "        \n",
    "laptop1=laptop('hp', 'aux114', 10000)\n",
    "\n",
    "print(laptop1.apply_discount(10))\n"
   ]
  },
  {
   "cell_type": "markdown",
   "metadata": {},
   "source": [
    "# M.I.M.P  Same Program But using Class variable Part-1"
   ]
  },
  {
   "cell_type": "code",
   "execution_count": 24,
   "metadata": {},
   "outputs": [
    {
     "name": "stdout",
     "output_type": "stream",
     "text": [
      "9000.0\n"
     ]
    }
   ],
   "source": [
    "class laptop:\n",
    "    discount_percent=10\n",
    "    def __init__(self,brand,model_name,price):\n",
    "        self.brand=brand\n",
    "        self.model_name=model_name\n",
    "        self.price=price\n",
    "        \n",
    "    def apply_discount(self):\n",
    "        off_price=(laptop.discount_percent/100) * self.price\n",
    "        return self.price - off_price\n",
    "        \n",
    "        \n",
    "        \n",
    "        \n",
    "        \n",
    "laptop1=laptop('hp', 'aux114', 10000)\n",
    "\n",
    "print(laptop1.apply_discount())"
   ]
  },
  {
   "cell_type": "markdown",
   "metadata": {},
   "source": [
    "# Write a  Circle  Area Program using Oops Concept"
   ]
  },
  {
   "cell_type": "code",
   "execution_count": 25,
   "metadata": {},
   "outputs": [
    {
     "name": "stdout",
     "output_type": "stream",
     "text": [
      "150.72\n"
     ]
    }
   ],
   "source": [
    "class circle:\n",
    "    \n",
    "    \n",
    "    def __init__(self,radius,pi):\n",
    "        self.radius=radius\n",
    "        self.pi=pi\n",
    "        \n",
    "    def calc_circulm(self):\n",
    "        return 2 * .pi * self.radius\n",
    "    \n",
    "    \n",
    "c1=circle(24,3.14)\n",
    "\n",
    "print(c1.calc_circulm())\n",
    "\n",
    "    \n",
    "\n",
    "    "
   ]
  },
  {
   "cell_type": "markdown",
   "metadata": {},
   "source": [
    "But this program is not most approciate"
   ]
  },
  {
   "cell_type": "markdown",
   "metadata": {},
   "source": [
    "# Using class variable"
   ]
  },
  {
   "cell_type": "code",
   "execution_count": 26,
   "metadata": {},
   "outputs": [
    {
     "name": "stdout",
     "output_type": "stream",
     "text": [
      "150.72\n"
     ]
    }
   ],
   "source": [
    "class circle:\n",
    "    \n",
    "    pi=3.14\n",
    "    \n",
    "    def __init__(self,radius):\n",
    "        self.radius=radius\n",
    "        \n",
    "        \n",
    "    def calc_circulm(self):\n",
    "        return 2 * circle.pi * self.radius\n",
    "    \n",
    "    \n",
    "c1=circle(24)\n",
    "\n",
    "print(c1.calc_circulm())"
   ]
  },
  {
   "cell_type": "markdown",
   "metadata": {},
   "source": [
    "# Class Varible Part-2"
   ]
  },
  {
   "cell_type": "code",
   "execution_count": 30,
   "metadata": {},
   "outputs": [
    {
     "name": "stdout",
     "output_type": "stream",
     "text": [
      "0.0\n"
     ]
    }
   ],
   "source": [
    "class laptop:\n",
    "    discount_percent=10\n",
    "    def __init__(self,brand,model_name,price):\n",
    "        self.brand=brand\n",
    "        self.model_name=model_name\n",
    "        self.price=price\n",
    "        \n",
    "    def apply_discount(self):\n",
    "        off_price=(laptop.discount_percent/100) * self.price\n",
    "        return self.price - off_price\n",
    "        \n",
    "        \n",
    "        \n",
    "        \n",
    "#laptop.discount_percent=0\n",
    "laptop.discount_percent=100\n",
    "\n",
    "laptop1=laptop('hp', 'aux114', 10000)\n",
    "laptop2=laptop('apple', 'macbook pro', 230000)\n",
    "print(laptop1.apply_discount())"
   ]
  },
  {
   "cell_type": "code",
   "execution_count": 31,
   "metadata": {},
   "outputs": [
    {
     "name": "stdout",
     "output_type": "stream",
     "text": [
      "0.0\n",
      "{'brand': 'hp', 'model_name': 'aux114', 'price': 10000}\n"
     ]
    }
   ],
   "source": [
    "class laptop:\n",
    "    discount_percent=10\n",
    "    def __init__(self,brand,model_name,price):\n",
    "        self.brand=brand\n",
    "        self.model_name=model_name\n",
    "        self.price=price\n",
    "        \n",
    "    def apply_discount(self):\n",
    "        off_price=(laptop.discount_percent/100) * self.price\n",
    "        return self.price - off_price\n",
    "        \n",
    "        \n",
    "        \n",
    "        \n",
    "#laptop.discount_percent=0\n",
    "laptop.discount_percent=100\n",
    "\n",
    "laptop1=laptop('hp', 'aux114', 10000)\n",
    "laptop2=laptop('apple', 'macbook pro', 230000)\n",
    "print(laptop1.apply_discount())\n",
    "print(laptop1.__dict__)"
   ]
  },
  {
   "cell_type": "markdown",
   "metadata": {},
   "source": [
    "# Q: Now i want only laptop2 i give 50% discount"
   ]
  },
  {
   "cell_type": "code",
   "execution_count": 32,
   "metadata": {},
   "outputs": [
    {
     "name": "stdout",
     "output_type": "stream",
     "text": [
      "{'brand': 'apple', 'model_name': 'macbook pro', 'price': 230000, 'discount_percent': 50}\n",
      "207000.0\n"
     ]
    }
   ],
   "source": [
    "#lets start the approches\n",
    "\n",
    "class laptop:\n",
    "    discount_percent=10\n",
    "    def __init__(self,brand,model_name,price):\n",
    "        self.brand=brand\n",
    "        self.model_name=model_name\n",
    "        self.price=price\n",
    "        \n",
    "    def apply_discount(self):\n",
    "        off_price=(laptop.discount_percent/100) * self.price\n",
    "        return self.price - off_price\n",
    "        \n",
    "        \n",
    "        \n",
    "    \n",
    "\n",
    "laptop1=laptop('hp', 'aux114', 10000)\n",
    "laptop2=laptop('apple', 'macbook pro', 230000)\n",
    "\n",
    "laptop2.discount_percent=50\n",
    "\n",
    "print(laptop2.__dict__)\n",
    "print(laptop2.apply_discount())\n"
   ]
  },
  {
   "cell_type": "markdown",
   "metadata": {},
   "source": [
    "Wrong output display....so what will i do?hmmmm"
   ]
  },
  {
   "cell_type": "code",
   "execution_count": 34,
   "metadata": {},
   "outputs": [
    {
     "name": "stdout",
     "output_type": "stream",
     "text": [
      "{'brand': 'apple', 'model_name': 'macbook pro', 'price': 230000, 'discount_percent': 50}\n",
      "115000.0\n",
      "{'brand': 'hp', 'model_name': 'aux114', 'price': 10000}\n",
      "9000.0\n"
     ]
    }
   ],
   "source": [
    "class laptop:\n",
    "    discount_percent=10\n",
    "    def __init__(self,brand,model_name,price):\n",
    "        self.brand=brand\n",
    "        self.model_name=model_name\n",
    "        self.price=price\n",
    "        \n",
    "    def apply_discount(self):\n",
    "        off_price=(self.discount_percent/100) * self.price\n",
    "        return self.price - off_price\n",
    "        \n",
    "        \n",
    "        \n",
    "    \n",
    "\n",
    "laptop1=laptop('hp', 'aux114', 10000)\n",
    "laptop2=laptop('apple', 'macbook pro', 230000)\n",
    "\n",
    "laptop2.discount_percent=50\n",
    "\n",
    "print(laptop2.__dict__)\n",
    "print(laptop2.apply_discount())\n",
    "\n",
    "\n",
    "\n",
    "print(laptop1.__dict__)\n",
    "print(laptop1.apply_discount())\n"
   ]
  },
  {
   "cell_type": "markdown",
   "metadata": {},
   "source": [
    "This is Correct answer"
   ]
  },
  {
   "cell_type": "markdown",
   "metadata": {},
   "source": [
    "# Now you are becoming expert so final conclusion of this program \n",
    "\n",
    "\n",
    "laptop 1-------> 10%\n",
    "\n",
    "laptop 2-------> 50%"
   ]
  },
  {
   "cell_type": "code",
   "execution_count": 35,
   "metadata": {},
   "outputs": [
    {
     "name": "stdout",
     "output_type": "stream",
     "text": [
      "{'brand': 'hp', 'model_name': 'aux114', 'price': 10000}\n",
      "9000.0\n",
      "{'brand': 'apple', 'model_name': 'macbook pro', 'price': 230000, 'discount_percent': 50}\n",
      "115000.0\n"
     ]
    }
   ],
   "source": [
    "class laptop:\n",
    "    discount_percent=10\n",
    "    \n",
    "    def __init__(self,brand,model_name,price):\n",
    "        self.brand=brand\n",
    "        self.model_name=model_name\n",
    "        self.price=price\n",
    "        \n",
    "    def apply_discount(self):\n",
    "        off_price=(self.discount_percent/100) * self.price\n",
    "        return self.price - off_price\n",
    "        \n",
    "        \n",
    "        \n",
    "    \n",
    "\n",
    "laptop1=laptop('hp', 'aux114', 10000)\n",
    "laptop2=laptop('apple', 'macbook pro', 230000)\n",
    "\n",
    "\n",
    "\n",
    "print(laptop1.__dict__)\n",
    "print(laptop1.apply_discount())\n",
    "\n",
    "\n",
    "\n",
    "laptop2.discount_percent=50\n",
    "\n",
    "print(laptop2.__dict__)\n",
    "print(laptop2.apply_discount())\n",
    "\n",
    "\n"
   ]
  },
  {
   "cell_type": "markdown",
   "metadata": {},
   "source": [
    "# write a count instance program using oops"
   ]
  },
  {
   "cell_type": "code",
   "execution_count": 37,
   "metadata": {},
   "outputs": [
    {
     "name": "stdout",
     "output_type": "stream",
     "text": [
      "0\n"
     ]
    }
   ],
   "source": [
    "class person:\n",
    "    count_instance=0\n",
    "    def __init__(self,first_name,last_name,age):\n",
    "        self.first_name=first_name\n",
    "        self.last_name=last_name\n",
    "        self.age=age\n",
    "        \n",
    "p1=person('harsh','shah',35)\n",
    "print(person.count_instance)"
   ]
  },
  {
   "cell_type": "markdown",
   "metadata": {},
   "source": [
    "BUT answer 1 should be one cz alredy crate one instance so\n",
    "\n",
    "\n",
    "now modify above progrm"
   ]
  },
  {
   "cell_type": "code",
   "execution_count": 41,
   "metadata": {},
   "outputs": [
    {
     "name": "stdout",
     "output_type": "stream",
     "text": [
      "4\n"
     ]
    }
   ],
   "source": [
    "class person:\n",
    "    count_instance=0\n",
    "    \n",
    "    def __init__(self,first_name,last_name,age):\n",
    "        #person.count_instance=person.count_instance + 1\n",
    "        person.count_instance += 1\n",
    "        self.first_name=first_name\n",
    "        self.last_name=last_name\n",
    "        self.age=age\n",
    "        \n",
    "p1=person('harsh','shah',35)\n",
    "p1=person('harsh','shah',35)\n",
    "p1=person('harsh','shah',35)\n",
    "p1=person('harsh','shah',35)\n",
    "\n",
    "\n",
    "print(person.count_instance)"
   ]
  },
  {
   "cell_type": "code",
   "execution_count": 6,
   "metadata": {},
   "outputs": [
    {
     "name": "stdout",
     "output_type": "stream",
     "text": [
      "harsh shah\n",
      "True\n",
      "harshit patel\n",
      "False\n"
     ]
    }
   ],
   "source": [
    "class person:\n",
    "    count_instance=0\n",
    "    \n",
    "    def __init__(self,first_name,last_name,age):\n",
    "        #person.count_instance=person.count_instance + 1\n",
    "        person.count_instance += 1\n",
    "        self.first_name=first_name\n",
    "        self.last_name=last_name\n",
    "        self.age=age\n",
    "        \n",
    "    def full_name(self):\n",
    "        return f'{self.first_name} {self.last_name}'\n",
    "    \n",
    "    def is_above_18(self):\n",
    "        return self.age>18\n",
    "        \n",
    "        \n",
    "p1=person('harsh','shah',35)\n",
    "p2=person('harshit','patel',16)\n",
    "\n",
    "\n",
    "print(p1.full_name())\n",
    "print(p1.is_above_18())\n",
    "\n",
    "print(p2.full_name())\n",
    "print(p2.is_above_18())\n"
   ]
  },
  {
   "cell_type": "markdown",
   "metadata": {},
   "source": [
    "#  Person details program and calculate age of person using oops concept"
   ]
  },
  {
   "cell_type": "code",
   "execution_count": 1,
   "metadata": {},
   "outputs": [
    {
     "name": "stdout",
     "output_type": "stream",
     "text": [
      "Jane\n",
      "jane.doe@example.com\n",
      "28\n"
     ]
    }
   ],
   "source": [
    "import datetime\n",
    "class Person:\n",
    "\n",
    "    def __init__(self, name, surname, birthdate, address, telephone, email):\n",
    "        self.name = name\n",
    "        self.surname = surname\n",
    "        self.birthdate = birthdate\n",
    "\n",
    "        self.address = address\n",
    "        self.telephone = telephone\n",
    "        self.email = email\n",
    "\n",
    "    def age(self):\n",
    "        today = datetime.date.today()\n",
    "        age = today.year - self.birthdate.year\n",
    "\n",
    "        if today < datetime.date(today.year, self.birthdate.month, self.birthdate.day):\n",
    "            age -= 1\n",
    "\n",
    "        return age\n",
    "\n",
    "person = Person(\n",
    "    \"Jane\",\n",
    "    \"Doe\",\n",
    "    datetime.date(1992, 3, 12), # year, month, day\n",
    "    \"No. 12 Short Street, Greenville\",\n",
    "    \"555 456 0987\",\n",
    "    \"jane.doe@example.com\"\n",
    ")\n",
    "\n",
    "print(person.name)\n",
    "print(person.email)\n",
    "print(person.age())"
   ]
  },
  {
   "cell_type": "markdown",
   "metadata": {},
   "source": [
    "# Rewrite the Person class so that a person’s age is calculated for the first time when a new person instance is created, and recalculated (when it is requested) if the day has changed since the last time that it was calculate"
   ]
  },
  {
   "cell_type": "code",
   "execution_count": 2,
   "metadata": {},
   "outputs": [
    {
     "name": "stdout",
     "output_type": "stream",
     "text": [
      "Jane\n",
      "jane.doe@example.com\n",
      "28\n"
     ]
    }
   ],
   "source": [
    "import datetime\n",
    "\n",
    "class Person:\n",
    "\n",
    "    def __init__(self, name, surname, birthdate, address, telephone, email):\n",
    "        self.name = name\n",
    "        self.surname = surname\n",
    "        self.birthdate = birthdate\n",
    "\n",
    "        self.address = address\n",
    "        self.telephone = telephone\n",
    "        self.email = email\n",
    "\n",
    "        # This isn't strictly necessary, but it clearly introduces these attributes\n",
    "        self._age = None\n",
    "        self._age_last_recalculated = None\n",
    "\n",
    "        self._recalculate_age()\n",
    "\n",
    "    def _recalculate_age(self):\n",
    "        today = datetime.date.today()\n",
    "        age = today.year - self.birthdate.year\n",
    "\n",
    "        if today < datetime.date(today.year, self.birthdate.month, self.birthdate.day):\n",
    "            age -= 1\n",
    "\n",
    "        self._age = age\n",
    "        self._age_last_recalculated = today\n",
    "\n",
    "    def age(self):\n",
    "        if (datetime.date.today() > self._age_last_recalculated):\n",
    "            self._recalculate_age()\n",
    "\n",
    "        return self._age\n",
    "    \n",
    "person = Person(\n",
    "    \"Jane\",\n",
    "    \"Doe\",\n",
    "    datetime.date(1992, 3, 12), # year, month, day\n",
    "    \"No. 12 Short Street, Greenville\",\n",
    "    \"555 456 0987\",\n",
    "    \"jane.doe@example.com\"\n",
    ")\n",
    "\n",
    "print(person.name)\n",
    "print(person.email)\n",
    "print(person.age())"
   ]
  },
  {
   "cell_type": "markdown",
   "metadata": {},
   "source": [
    "# Explain the differences between the attributes name, surname and profession, and what values they can have in different instances of class"
   ]
  },
  {
   "cell_type": "code",
   "execution_count": null,
   "metadata": {},
   "outputs": [],
   "source": [
    "\n",
    "class Smith:\n",
    "    surname = \"Smith\"\n",
    "    profession = \"smith\"\n",
    "\n",
    "    def __init__(self, name, profession=None):\n",
    "        self.name = name\n",
    "        if profession is not None:\n",
    "            self.profession = profession"
   ]
  },
  {
   "cell_type": "markdown",
   "metadata": {},
   "source": [
    "name is always an instance attribute which is set in the constructor, and each class instance can have a different name value. \n",
    "\n",
    "\n",
    "surname is always a class attribute, and cannot be overridden in the constructor – every instance will have a surname value of\n",
    "\n",
    "\n",
    "Smith. profession is a class attribute, but it can optionally be overridden by an instance attribute in the constructor. Each\n",
    "\n",
    "\n",
    "instance will have a profession value of smith unless the optional surname parameter is passed into the constructor with a\n",
    "\n",
    "\n",
    "different value."
   ]
  }
 ],
 "metadata": {
  "kernelspec": {
   "display_name": "Python 3",
   "language": "python",
   "name": "python3"
  },
  "language_info": {
   "codemirror_mode": {
    "name": "ipython",
    "version": 3
   },
   "file_extension": ".py",
   "mimetype": "text/x-python",
   "name": "python",
   "nbconvert_exporter": "python",
   "pygments_lexer": "ipython3",
   "version": "3.7.7"
  }
 },
 "nbformat": 4,
 "nbformat_minor": 4
}
